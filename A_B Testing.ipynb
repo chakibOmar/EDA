{
 "cells": [
  {
   "cell_type": "markdown",
   "id": "4b95c866",
   "metadata": {},
   "source": [
    "# A/B Testing \n",
    "compares Control and Standard Treatments to assess statistical differences, aiming for a significance level of 5% (alpha) & Test statistic is The Mean, using Permutation Test & Chi2 Test."
   ]
  },
  {
   "cell_type": "markdown",
   "id": "c5fffa04",
   "metadata": {},
   "source": [
    "# Import Python Libraries"
   ]
  },
  {
   "cell_type": "code",
   "execution_count": 1,
   "id": "08c3e58a",
   "metadata": {},
   "outputs": [],
   "source": [
    "# import Libraries\n",
    "import pandas as pd\n",
    "import random\n",
    "import scipy.stats\n",
    "import seaborn as sns\n",
    "import numpy as np\n",
    "import matplotlib.pyplot as plt"
   ]
  },
  {
   "cell_type": "markdown",
   "id": "8769735b",
   "metadata": {},
   "source": [
    "# Read Dataset Web Technology Landing page effect "
   ]
  },
  {
   "cell_type": "code",
   "execution_count": 10,
   "id": "42478218",
   "metadata": {},
   "outputs": [
    {
     "data": {
      "text/html": [
       "<div>\n",
       "<style scoped>\n",
       "    .dataframe tbody tr th:only-of-type {\n",
       "        vertical-align: middle;\n",
       "    }\n",
       "\n",
       "    .dataframe tbody tr th {\n",
       "        vertical-align: top;\n",
       "    }\n",
       "\n",
       "    .dataframe thead th {\n",
       "        text-align: right;\n",
       "    }\n",
       "</style>\n",
       "<table border=\"1\" class=\"dataframe\">\n",
       "  <thead>\n",
       "    <tr style=\"text-align: right;\">\n",
       "      <th></th>\n",
       "      <th>user_id</th>\n",
       "      <th>timestamp</th>\n",
       "      <th>group</th>\n",
       "      <th>landing_page</th>\n",
       "      <th>converted</th>\n",
       "    </tr>\n",
       "  </thead>\n",
       "  <tbody>\n",
       "    <tr>\n",
       "      <th>0</th>\n",
       "      <td>851104</td>\n",
       "      <td>11:48.6</td>\n",
       "      <td>control</td>\n",
       "      <td>old_page</td>\n",
       "      <td>0</td>\n",
       "    </tr>\n",
       "    <tr>\n",
       "      <th>1</th>\n",
       "      <td>804228</td>\n",
       "      <td>01:45.2</td>\n",
       "      <td>control</td>\n",
       "      <td>old_page</td>\n",
       "      <td>0</td>\n",
       "    </tr>\n",
       "    <tr>\n",
       "      <th>2</th>\n",
       "      <td>661590</td>\n",
       "      <td>55:06.2</td>\n",
       "      <td>treatment</td>\n",
       "      <td>new_page</td>\n",
       "      <td>0</td>\n",
       "    </tr>\n",
       "    <tr>\n",
       "      <th>3</th>\n",
       "      <td>853541</td>\n",
       "      <td>28:03.1</td>\n",
       "      <td>treatment</td>\n",
       "      <td>new_page</td>\n",
       "      <td>0</td>\n",
       "    </tr>\n",
       "    <tr>\n",
       "      <th>4</th>\n",
       "      <td>864975</td>\n",
       "      <td>52:26.2</td>\n",
       "      <td>control</td>\n",
       "      <td>old_page</td>\n",
       "      <td>1</td>\n",
       "    </tr>\n",
       "  </tbody>\n",
       "</table>\n",
       "</div>"
      ],
      "text/plain": [
       "   user_id timestamp      group landing_page  converted\n",
       "0   851104   11:48.6    control     old_page          0\n",
       "1   804228   01:45.2    control     old_page          0\n",
       "2   661590   55:06.2  treatment     new_page          0\n",
       "3   853541   28:03.1  treatment     new_page          0\n",
       "4   864975   52:26.2    control     old_page          1"
      ]
     },
     "execution_count": 10,
     "metadata": {},
     "output_type": "execute_result"
    }
   ],
   "source": [
    "web_data = pd.read_csv('ab_data.csv')\n",
    "web_data.head()"
   ]
  },
  {
   "cell_type": "markdown",
   "id": "73280d6c",
   "metadata": {},
   "source": [
    "# Check Duplicated & Null Values"
   ]
  },
  {
   "cell_type": "code",
   "execution_count": 4,
   "id": "4550bfe1",
   "metadata": {},
   "outputs": [
    {
     "name": "stdout",
     "output_type": "stream",
     "text": [
      "No Null Values\n"
     ]
    }
   ],
   "source": [
    "# Check Null Values\n",
    "if web_data.isnull().any().any()==0:\n",
    "    print('No Null Values')\n",
    "else:\n",
    "    print('Null Values exist. Removing Them is on')\n",
    "    web_data.dropna()\n",
    "    print('Done!')"
   ]
  },
  {
   "cell_type": "code",
   "execution_count": 5,
   "id": "c5ed3f0a",
   "metadata": {},
   "outputs": [
    {
     "name": "stdout",
     "output_type": "stream",
     "text": [
      "No Dupliacted Values\n"
     ]
    }
   ],
   "source": [
    "# Check Dupliacted Values\n",
    "if web_data.duplicated().sum()==0:\n",
    "    print('No Dupliacted Values')\n",
    "else:\n",
    "    print('Duplicated Values exist. Removing Them is on')\n",
    "    web_data.drop_duplicates()\n",
    "    print('Done!')"
   ]
  },
  {
   "cell_type": "markdown",
   "id": "39e49c31",
   "metadata": {},
   "source": [
    "# Features Data Types Treatment"
   ]
  },
  {
   "cell_type": "code",
   "execution_count": 11,
   "id": "34bc81e5",
   "metadata": {},
   "outputs": [],
   "source": [
    "# Rename and Change the DataTypes\n",
    "web_data.rename(columns={'timestamp':'SessionTime'}, inplace=True)\n",
    "# Change the data type of 'SessionTime' to 'datetime'\n",
    "web_data[\"SessionTime\"] = pd.to_timedelta('00:' + web_data[\"SessionTime\"])\n",
    "# Convert to seconds\n",
    "web_data[\"SessionTime_seconds\"] = web_data[\"SessionTime\"].dt.total_seconds()\n",
    "for column in web_data.columns:\n",
    "    if web_data[column].dtype=='O':\n",
    "        web_data[column]=web_data[column].astype('category')"
   ]
  },
  {
   "cell_type": "code",
   "execution_count": 12,
   "id": "90f142d3",
   "metadata": {},
   "outputs": [
    {
     "data": {
      "text/html": [
       "<div>\n",
       "<style scoped>\n",
       "    .dataframe tbody tr th:only-of-type {\n",
       "        vertical-align: middle;\n",
       "    }\n",
       "\n",
       "    .dataframe tbody tr th {\n",
       "        vertical-align: top;\n",
       "    }\n",
       "\n",
       "    .dataframe thead th {\n",
       "        text-align: right;\n",
       "    }\n",
       "</style>\n",
       "<table border=\"1\" class=\"dataframe\">\n",
       "  <thead>\n",
       "    <tr style=\"text-align: right;\">\n",
       "      <th></th>\n",
       "      <th>user_id</th>\n",
       "      <th>SessionTime</th>\n",
       "      <th>group</th>\n",
       "      <th>landing_page</th>\n",
       "      <th>converted</th>\n",
       "      <th>SessionTime_seconds</th>\n",
       "    </tr>\n",
       "  </thead>\n",
       "  <tbody>\n",
       "    <tr>\n",
       "      <th>0</th>\n",
       "      <td>851104</td>\n",
       "      <td>0 days 00:11:48.600000</td>\n",
       "      <td>control</td>\n",
       "      <td>old_page</td>\n",
       "      <td>0</td>\n",
       "      <td>708.6</td>\n",
       "    </tr>\n",
       "    <tr>\n",
       "      <th>1</th>\n",
       "      <td>804228</td>\n",
       "      <td>0 days 00:01:45.200000</td>\n",
       "      <td>control</td>\n",
       "      <td>old_page</td>\n",
       "      <td>0</td>\n",
       "      <td>105.2</td>\n",
       "    </tr>\n",
       "    <tr>\n",
       "      <th>2</th>\n",
       "      <td>661590</td>\n",
       "      <td>0 days 00:55:06.200000</td>\n",
       "      <td>treatment</td>\n",
       "      <td>new_page</td>\n",
       "      <td>0</td>\n",
       "      <td>3306.2</td>\n",
       "    </tr>\n",
       "    <tr>\n",
       "      <th>3</th>\n",
       "      <td>853541</td>\n",
       "      <td>0 days 00:28:03.100000</td>\n",
       "      <td>treatment</td>\n",
       "      <td>new_page</td>\n",
       "      <td>0</td>\n",
       "      <td>1683.1</td>\n",
       "    </tr>\n",
       "    <tr>\n",
       "      <th>4</th>\n",
       "      <td>864975</td>\n",
       "      <td>0 days 00:52:26.200000</td>\n",
       "      <td>control</td>\n",
       "      <td>old_page</td>\n",
       "      <td>1</td>\n",
       "      <td>3146.2</td>\n",
       "    </tr>\n",
       "  </tbody>\n",
       "</table>\n",
       "</div>"
      ],
      "text/plain": [
       "   user_id            SessionTime      group landing_page  converted  \\\n",
       "0   851104 0 days 00:11:48.600000    control     old_page          0   \n",
       "1   804228 0 days 00:01:45.200000    control     old_page          0   \n",
       "2   661590 0 days 00:55:06.200000  treatment     new_page          0   \n",
       "3   853541 0 days 00:28:03.100000  treatment     new_page          0   \n",
       "4   864975 0 days 00:52:26.200000    control     old_page          1   \n",
       "\n",
       "   SessionTime_seconds  \n",
       "0                708.6  \n",
       "1                105.2  \n",
       "2               3306.2  \n",
       "3               1683.1  \n",
       "4               3146.2  "
      ]
     },
     "execution_count": 12,
     "metadata": {},
     "output_type": "execute_result"
    }
   ],
   "source": [
    "# Verification\n",
    "web_data.head()"
   ]
  },
  {
   "cell_type": "markdown",
   "id": "c8542d8c",
   "metadata": {},
   "source": [
    "# Visualize The Control/Treatment Grp based on the Session Time/Conversion "
   ]
  },
  {
   "cell_type": "code",
   "execution_count": 19,
   "id": "e7763a97",
   "metadata": {},
   "outputs": [
    {
     "data": {
      "image/png": "[encoded data removed]",
      "text/plain": [
       "<Figure size 640x480 with 1 Axes>"
      ]
     },
     "metadata": {},
     "output_type": "display_data"
    }
   ],
   "source": [
    "# Visualization of the Session Time for Each Treatment\n",
    "sns.boxplot(x='group', y='SessionTime_seconds', data=web_data)\n",
    "plt.title('Distribution of Session Time by Treatment')\n",
    "plt.xlabel('Treatments')\n",
    "plt.ylabel('Session Time (seconds)')\n",
    "plt.show()"
   ]
  },
  {
   "cell_type": "markdown",
   "id": "cac0ce39",
   "metadata": {},
   "source": [
    "As we can see both Control and Treatment startegies have the same effect on Session Time."
   ]
  },
  {
   "cell_type": "code",
   "execution_count": 32,
   "id": "de22978e",
   "metadata": {},
   "outputs": [
    {
     "data": {
      "text/html": [
       "<div>\n",
       "<style scoped>\n",
       "    .dataframe tbody tr th:only-of-type {\n",
       "        vertical-align: middle;\n",
       "    }\n",
       "\n",
       "    .dataframe tbody tr th {\n",
       "        vertical-align: top;\n",
       "    }\n",
       "\n",
       "    .dataframe thead th {\n",
       "        text-align: right;\n",
       "    }\n",
       "</style>\n",
       "<table border=\"1\" class=\"dataframe\">\n",
       "  <thead>\n",
       "    <tr style=\"text-align: right;\">\n",
       "      <th></th>\n",
       "      <th>group</th>\n",
       "      <th>SessionTime_seconds</th>\n",
       "    </tr>\n",
       "  </thead>\n",
       "  <tbody>\n",
       "    <tr>\n",
       "      <th>0</th>\n",
       "      <td>control</td>\n",
       "      <td>1804.763441</td>\n",
       "    </tr>\n",
       "    <tr>\n",
       "      <th>1</th>\n",
       "      <td>treatment</td>\n",
       "      <td>1801.506825</td>\n",
       "    </tr>\n",
       "  </tbody>\n",
       "</table>\n",
       "</div>"
      ],
      "text/plain": [
       "       group  SessionTime_seconds\n",
       "0    control          1804.763441\n",
       "1  treatment          1801.506825"
      ]
     },
     "execution_count": 32,
     "metadata": {},
     "output_type": "execute_result"
    }
   ],
   "source": [
    "# let's group our data based on group type and see impact on sessionTime and Conversion\n",
    "web_data_by_group_seconds= web_data.groupby('group')['SessionTime_seconds'].mean().sort_values(ascending=False).reset_index()\n",
    "web_data_by_group_conversion = web_data.groupby('group')['converted'].count().sort_values(ascending=False).reset_index()\n",
    "web_data_by_group_seconds"
   ]
  },
  {
   "cell_type": "code",
   "execution_count": 33,
   "id": "a39e829d",
   "metadata": {},
   "outputs": [
    {
     "name": "stdout",
     "output_type": "stream",
     "text": [
      "We have Conversion improvment by percenatge of:0.03\n",
      "We have no improvment at all -0.09\n"
     ]
    }
   ],
   "source": [
    "# Analysis the improvment of each startegy on Time and Conversion\n",
    "improve_conversion = (web_data_by_group_conversion.iloc[0,1]-web_data_by_group_conversion.iloc[1,1])/web_data_by_group_conversion.iloc[:,1].sum()\n",
    "improve_time = (web_data_by_group_seconds.iloc[1,1]-web_data_by_group_seconds.iloc[0,1])/web_data_by_group_seconds.iloc[:,1].sum()\n",
    "if improve_conversion>0:\n",
    "    print(f'We have Conversion improvment by percenatge of:{round(improve_conversion*100,2)}')\n",
    "else:\n",
    "    print(f'We have no improvment at all {round(improve_conversion*100,2)}')\n",
    "if improve_time>0:\n",
    "    print(f'We have Time improvment by percenatge of:{round(improve_time*100,2)}')\n",
    "else:\n",
    "    print(f'We have no improvment at all {round(improve_time*100,2)}')"
   ]
  },
  {
   "cell_type": "code",
   "execution_count": 34,
   "id": "8180a24d",
   "metadata": {},
   "outputs": [
    {
     "data": {
      "image/png": "[encoded data removed]",
      "text/plain": [
       "<Figure size 1400x600 with 2 Axes>"
      ]
     },
     "metadata": {},
     "output_type": "display_data"
    }
   ],
   "source": [
    "# Visualization\n",
    "# Calculate the total conversions\n",
    "total_conversions = web_data_by_group_conversion['converted'].sum()\n",
    "# Calculate percentage of conversions\n",
    "web_data_by_group_conversion['converted_percentage'] = (web_data_by_group_conversion['converted'] / total_conversions) * 100\n",
    "\n",
    "# Create a figure with two subplots\n",
    "fig, (ax1, ax2) = plt.subplots(1, 2, figsize=(14, 6))\n",
    "\n",
    "# Plot SessionTime_seconds\n",
    "web_data_by_group_seconds.plot(x='group', y='SessionTime_seconds', kind='bar', ax=ax1, legend=False)\n",
    "ax1.set_title('Session Time by Group (seconds)')\n",
    "ax1.set_ylabel('Session Time (seconds)')\n",
    "\n",
    "# Plot converted percentage\n",
    "web_data_by_group_conversion.plot(x='group', y='converted_percentage', kind='bar', ax=ax2, legend=False)\n",
    "ax2.set_title('Conversion Percentage by Group')\n",
    "ax2.set_ylabel('Converted (%)')\n",
    "\n",
    "# Adjust layout and show the plots\n",
    "plt.tight_layout()\n",
    "plt.show()"
   ]
  },
  {
   "cell_type": "markdown",
   "id": "5a55eb0e",
   "metadata": {},
   "source": [
    "# Let's Start our A/B test on Conversion because we have improvment but to not be fooled by Randomness we must check p-values belwo a threshold of 5%."
   ]
  },
  {
   "cell_type": "markdown",
   "id": "3bec8e88",
   "metadata": {},
   "source": [
    "# Permutation Test"
   ]
  },
  {
   "cell_type": "code",
   "execution_count": 3,
   "id": "ee467bec",
   "metadata": {},
   "outputs": [],
   "source": [
    "# Permutation Test \n",
    "def permTest(data, nA, nB):\n",
    "    n = nA + nB\n",
    "    # Generate a random sample of size nB from the range [0, n) and convert it to a set\n",
    "    idx_B = set(random.sample(range(n), nB))\n",
    "    # Compute the complement of idx_B with respect to the range [0, n) and convert it to a set\n",
    "    idx_A = set(range(n)) - idx_B\n",
    "    # Convert idx_A and idx_B sets to lists\n",
    "    idxA = list(idx_A)\n",
    "    idxB = list(idx_B)\n",
    "    # Calculate the difference in means between the two groups based on the selected indices\n",
    "    return data.loc[idxA].mean() - data.loc[idxB].mean()"
   ]
  },
  {
   "cell_type": "markdown",
   "id": "fb2f9720",
   "metadata": {},
   "source": [
    "# Get Groups Size"
   ]
  },
  {
   "cell_type": "code",
   "execution_count": 52,
   "id": "458bd6c9",
   "metadata": {},
   "outputs": [],
   "source": [
    "# Grps Size\n",
    "na =len(web_data[web_data['group']==\"control\"])\n",
    "nb = len(web_data[web_data['group']==\"treatment\"])"
   ]
  },
  {
   "cell_type": "markdown",
   "id": "8c53e5a8",
   "metadata": {},
   "source": [
    "# Observed Diff"
   ]
  },
  {
   "cell_type": "code",
   "execution_count": 55,
   "id": "d073db16",
   "metadata": {},
   "outputs": [
    {
     "data": {
      "text/html": [
       "<div>\n",
       "<style scoped>\n",
       "    .dataframe tbody tr th:only-of-type {\n",
       "        vertical-align: middle;\n",
       "    }\n",
       "\n",
       "    .dataframe tbody tr th {\n",
       "        vertical-align: top;\n",
       "    }\n",
       "\n",
       "    .dataframe thead th {\n",
       "        text-align: right;\n",
       "    }\n",
       "</style>\n",
       "<table border=\"1\" class=\"dataframe\">\n",
       "  <thead>\n",
       "    <tr style=\"text-align: right;\">\n",
       "      <th></th>\n",
       "      <th>Control Grp</th>\n",
       "      <th>Treatmnet Grp</th>\n",
       "    </tr>\n",
       "  </thead>\n",
       "  <tbody>\n",
       "    <tr>\n",
       "      <th>Converted</th>\n",
       "      <td>17723</td>\n",
       "      <td>17514</td>\n",
       "    </tr>\n",
       "    <tr>\n",
       "      <th>Not Converted</th>\n",
       "      <td>129479</td>\n",
       "      <td>129762</td>\n",
       "    </tr>\n",
       "  </tbody>\n",
       "</table>\n",
       "</div>"
      ],
      "text/plain": [
       "               Control Grp  Treatmnet Grp\n",
       "Converted            17723          17514\n",
       "Not Converted       129479         129762"
      ]
     },
     "execution_count": 55,
     "metadata": {},
     "output_type": "execute_result"
    }
   ],
   "source": [
    "# Creating Data Frame Results \n",
    "control = web_data[web_data['group']==\"control\"]\n",
    "treatment = web_data[web_data['group']==\"treatment\"]\n",
    "results = pd.DataFrame()\n",
    "results= results._append({'Control Grp':len(control[control['converted']==1]),'Treatmnet Grp':len(treatment[treatment['converted']==1])},ignore_index=True)\n",
    "results= results._append({'Control Grp':len(control[control['converted']==0]),'Treatmnet Grp':len(treatment[treatment['converted']==0])},ignore_index=True)\n",
    "results.index = ['Converted', 'Not Converted']\n",
    "results.head()"
   ]
  },
  {
   "cell_type": "code",
   "execution_count": 57,
   "id": "d39db8a8",
   "metadata": {},
   "outputs": [
    {
     "name": "stdout",
     "output_type": "stream",
     "text": [
      "The Control Grp has a significance of the treatment Grp by 0.148%\n"
     ]
    }
   ],
   "source": [
    "# Calculate Real Difference\n",
    "real_diff = results['Control Grp']['Converted'] / results['Control Grp'].sum() - results['Treatmnet Grp']['Converted'] / results['Treatmnet Grp'].sum()\n",
    "print(f'The Control Grp has a significance of the treatment Grp by {round(real_diff * 100, 3)}%')"
   ]
  },
  {
   "cell_type": "markdown",
   "id": "aa30d67a",
   "metadata": {},
   "source": [
    "# Calculate p-Value"
   ]
  },
  {
   "cell_type": "code",
   "execution_count": 58,
   "id": "1e745d5a",
   "metadata": {},
   "outputs": [],
   "source": [
    "# Create data Box to make the permutation Test\n",
    "na = results['Control Grp'].sum()\n",
    "nb = results['Treatmnet Grp'].sum()\n",
    "box_data = [1]*results.loc['Converted'].sum()\n",
    "box_data.extend([0]*results.loc['Not Converted'].sum())\n",
    "data = pd.Series(box_data)\n",
    "permDiff = [permTest(data,na,nb) for _ in range(1000)]"
   ]
  },
  {
   "cell_type": "code",
   "execution_count": 59,
   "id": "c4229c60",
   "metadata": {},
   "outputs": [
    {
     "name": "stdout",
     "output_type": "stream",
     "text": [
      "The p_value based on the Convertion 9.8%\n"
     ]
    }
   ],
   "source": [
    "p_value = np.mean(permDiff>real_diff)\n",
    "print(f'The p_value based on the Convertion {round(p_value*100,2)}%')"
   ]
  },
  {
   "cell_type": "markdown",
   "id": "299fb950",
   "metadata": {},
   "source": [
    "# Using Chi2 Test\n",
    "because we have in conveted binary data 1 or 0"
   ]
  },
  {
   "cell_type": "code",
   "execution_count": 60,
   "id": "2ef7b148",
   "metadata": {},
   "outputs": [
    {
     "name": "stdout",
     "output_type": "stream",
     "text": [
      "p-value for single sided test: 10.9116%\n"
     ]
    }
   ],
   "source": [
    "from scipy import stats\n",
    "survivors = np.array([[17723, 129479], [17514, 129762]])\n",
    "chi2, p_value, df, freq_tab = stats.chi2_contingency(survivors)\n",
    "print(f'p-value for single sided test: {p_value*100 / 2:.4f}%')"
   ]
  },
  {
   "cell_type": "markdown",
   "id": "ce3f84de",
   "metadata": {},
   "source": [
    "# Conclusion\n",
    "The improvment in Conversion between Control & Treatment Groups may fall due to Randomness."
   ]
  },
  {
   "cell_type": "markdown",
   "id": "0714a1c8",
   "metadata": {},
   "source": [
    "# Addition\n",
    "Calculate Sample Size based on effect size 10%, power, and alpha."
   ]
  },
  {
   "cell_type": "code",
   "execution_count": 62,
   "id": "6c22d2ca",
   "metadata": {},
   "outputs": [
    {
     "name": "stdout",
     "output_type": "stream",
     "text": [
      "The effect size (Cohen's h) for the given proportions is: 0.01029785095103608\n"
     ]
    }
   ],
   "source": [
    "import statsmodels.stats.proportion as smp\n",
    "\n",
    "# Given proportions\n",
    "prop1 = 0.0121\n",
    "prop2 = 0.011\n",
    "\n",
    "# Calculate effect size\n",
    "effect_size = smp.proportion_effectsize(prop1, prop2)\n",
    "\n",
    "print(f\"The effect size (Cohen's h) for the given proportions is: {effect_size}\")"
   ]
  },
  {
   "cell_type": "code",
   "execution_count": 65,
   "id": "76e555e8",
   "metadata": {},
   "outputs": [
    {
     "name": "stdout",
     "output_type": "stream",
     "text": [
      "So, to have a Statistical Significance test the sample size is: 116602.393\n"
     ]
    }
   ],
   "source": [
    "#Get the effect Size based on given alpha power and effect size\n",
    "import statsmodels.stats.power as smp\n",
    "import statsmodels.stats\n",
    "\n",
    "\n",
    "# Calculate the effect size\n",
    "effect_size = statsmodels.stats.proportion.proportion_effectsize(0.0121, 0.011)\n",
    "\n",
    "# Initialize an object for power analysis\n",
    "analysis = smp.TTestIndPower()\n",
    "\n",
    "# Solve for the sample size needed\n",
    "result = analysis.solve_power(effect_size=effect_size, alpha=0.05, power=0.8, alternative='larger')\n",
    "\n",
    "# Print the sample size\n",
    "print(f'So, to have a Statistical Significance test the sample size is: {result:.3f}')"
   ]
  },
  {
   "cell_type": "code",
   "execution_count": null,
   "id": "90be69dc",
   "metadata": {},
   "outputs": [],
   "source": []
  }
 ],
 "metadata": {
  "kernelspec": {
   "display_name": "Python 3 (ipykernel)",
   "language": "python",
   "name": "python3"
  },
  "language_info": {
   "codemirror_mode": {
    "name": "ipython",
    "version": 3
   },
   "file_extension": ".py",
   "mimetype": "text/x-python",
   "name": "python",
   "nbconvert_exporter": "python",
   "pygments_lexer": "ipython3",
   "version": "3.11.5"
  }
 },
 "nbformat": 4,
 "nbformat_minor": 5
}
